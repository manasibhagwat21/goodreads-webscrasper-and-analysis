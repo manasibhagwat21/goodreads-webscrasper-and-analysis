{
 "cells": [
  {
   "cell_type": "markdown",
   "id": "dce56215",
   "metadata": {},
   "source": [
    "# Goodreads - Web scraper\n",
    "\n"
   ]
  },
  {
   "cell_type": "code",
   "execution_count": 1,
   "id": "24181fa4",
   "metadata": {},
   "outputs": [
    {
     "name": "stderr",
     "output_type": "stream",
     "text": [
      "/var/folders/lr/8c5hs04n5c16pwk_y0fr6fvr0000gn/T/ipykernel_47983/3972107164.py:1: DeprecationWarning: \n",
      "Pyarrow will become a required dependency of pandas in the next major release of pandas (pandas 3.0),\n",
      "(to allow more performant data types, such as the Arrow string type, and better interoperability with other libraries)\n",
      "but was not found to be installed on your system.\n",
      "If this would cause problems for you,\n",
      "please provide us feedback at https://github.com/pandas-dev/pandas/issues/54466\n",
      "        \n",
      "  import pandas as pd\n",
      "/Users/manasibhagwat/Library/Python/3.9/lib/python/site-packages/urllib3/__init__.py:34: NotOpenSSLWarning: urllib3 v2 only supports OpenSSL 1.1.1+, currently the 'ssl' module is compiled with 'LibreSSL 2.8.3'. See: https://github.com/urllib3/urllib3/issues/3020\n",
      "  warnings.warn(\n"
     ]
    }
   ],
   "source": [
    "import pandas as pd\n",
    "import requests\n",
    "from bs4 import BeautifulSoup\n",
    "import time\n",
    "import re"
   ]
  },
  {
   "cell_type": "code",
   "execution_count": 3,
   "id": "2301cc04",
   "metadata": {},
   "outputs": [],
   "source": [
    "book_titles = []\n",
    "authors = []\n",
    "avg_ratings = []\n",
    "ratings = []\n",
    "published_years = []\n",
    "count =[]"
   ]
  },
  {
   "cell_type": "code",
   "execution_count": 34,
   "id": "710864c3",
   "metadata": {},
   "outputs": [
    {
     "name": "stdout",
     "output_type": "stream",
     "text": [
      "Index error on page 38: list index out of range\n",
      "Index error on page 40: list index out of range\n",
      "Index error on page 117: list index out of range\n",
      "Index error on page 439: list index out of range\n"
     ]
    }
   ],
   "source": [
    "user_agent = \"webscraper\"\n",
    "pages_to_scrape = 500\n",
    "request_delay = 3\n",
    "\n",
    "# Going through each page to extract data\n",
    "for page in range(1, pages_to_scrape + 1):\n",
    "    \n",
    "    url = \"https://www.goodreads.com/search?page=\" + str(page) + \"&q=self+help&qid=ozFSiGJBE0\"\n",
    "   \n",
    "    try:\n",
    "        # HTTP GET request to the URL\n",
    "        headers = {\"User-Agent\": user_agent}\n",
    "        response = requests.get(url, headers=headers).text\n",
    "        soup = BeautifulSoup(response, \"html5lib\")\n",
    "    \n",
    "        if soup.title and \"service unavailable\" in soup.title.text.lower():\n",
    "            continue\n",
    "\n",
    "        # table with all books\n",
    "        table = soup.find_all(\"tbody\")[0]\n",
    "\n",
    "        # loop through all rows of table books\n",
    "        for row in table.find_all(\"tr\"):\n",
    "            cells = row.find_all(\"td\")[1]\n",
    "\n",
    "            title = cells.find(\"a\").find(\"span\").text\n",
    "            book_titles.append(title)\n",
    "            \n",
    "\n",
    "            author = cells.find(\"a\", class_=\"authorName\").text\n",
    "            authors.append(author)\n",
    "\n",
    "            all_ratings = cells.find_all('span', class_ = 'minirating')\n",
    "            all_ratings_text = all_ratings[0].text.strip()\n",
    "            pattern_2 = re.compile(r\"(\\d\\.?\\d*)\\savg\")\n",
    "            avg_ratings.append(pattern_2.search(all_ratings_text).group(1))\n",
    "\n",
    "            pattern_4 = re.compile(r\"(\\d\\,?\\d*) rating\")\n",
    "            ratings_matches = pattern_4.search(all_ratings_text)\n",
    "            ratings.append(ratings_matches.group(1) if ratings_matches else 0)  \n",
    "\n",
    "            year_info = cells.find(\"span\", class_=\"greyText smallText uitext\").text.split()\n",
    "            year = None\n",
    "            for item in year_info:\n",
    "                if item.isdigit() and len(item) == 4:\n",
    "                    year = item\n",
    "                    break\n",
    "            if year:\n",
    "                published_years.append(year)\n",
    "            else:\n",
    "                published_years.append(0)  \n",
    "\n",
    "        # Sleep to add a delay between requests\n",
    "        time.sleep(request_delay)\n",
    "    \n",
    "    except requests.exceptions.RequestException as e:\n",
    "        print(f\"Error on page {page}: {e}\")\n",
    "\n",
    "    except IndexError as e:\n",
    "        print(f\"Index error on page {page}: {e}\")\n",
    "        continue\n",
    "\n",
    "    except Exception as e:\n",
    "        print(f\"Unexpected error on page {page}: {e}\")\n"
   ]
  },
  {
   "cell_type": "code",
   "execution_count": 35,
   "id": "c007fabe",
   "metadata": {
    "scrolled": true
   },
   "outputs": [],
   "source": [
    "\n",
    "data = {\n",
    "    \"Title\": book_titles,\n",
    "    \"Author\": authors,\n",
    "    \"Average Rating\": avg_ratings,\n",
    "    \"Rating\": ratings,\n",
    "    \"Year Published\": published_years\n",
    "}"
   ]
  },
  {
   "cell_type": "code",
   "execution_count": 36,
   "id": "1af705b6",
   "metadata": {
    "scrolled": true
   },
   "outputs": [
    {
     "data": {
      "text/html": [
       "<div>\n",
       "<style scoped>\n",
       "    .dataframe tbody tr th:only-of-type {\n",
       "        vertical-align: middle;\n",
       "    }\n",
       "\n",
       "    .dataframe tbody tr th {\n",
       "        vertical-align: top;\n",
       "    }\n",
       "\n",
       "    .dataframe thead th {\n",
       "        text-align: right;\n",
       "    }\n",
       "</style>\n",
       "<table border=\"1\" class=\"dataframe\">\n",
       "  <thead>\n",
       "    <tr style=\"text-align: right;\">\n",
       "      <th></th>\n",
       "      <th>Title</th>\n",
       "      <th>Author</th>\n",
       "      <th>Average Rating</th>\n",
       "      <th>Rating</th>\n",
       "      <th>Year Published</th>\n",
       "    </tr>\n",
       "  </thead>\n",
       "  <tbody>\n",
       "    <tr>\n",
       "      <th>0</th>\n",
       "      <td>Self-Help</td>\n",
       "      <td>Lorrie Moore</td>\n",
       "      <td>4.14</td>\n",
       "      <td>3,786</td>\n",
       "      <td>1985</td>\n",
       "    </tr>\n",
       "    <tr>\n",
       "      <th>1</th>\n",
       "      <td>What's Our Problem?: A Self-Help Book for Soci...</td>\n",
       "      <td>Tim Urban</td>\n",
       "      <td>4.28</td>\n",
       "      <td>3,397</td>\n",
       "      <td>2023</td>\n",
       "    </tr>\n",
       "    <tr>\n",
       "      <th>2</th>\n",
       "      <td>Parenting from the Inside Out: How a Deeper Se...</td>\n",
       "      <td>Daniel J. Siegel</td>\n",
       "      <td>4.16</td>\n",
       "      <td>4,799</td>\n",
       "      <td>2003</td>\n",
       "    </tr>\n",
       "    <tr>\n",
       "      <th>3</th>\n",
       "      <td>How to Be Fine: What We Learned from Living by...</td>\n",
       "      <td>Jolenta Greenberg</td>\n",
       "      <td>3.54</td>\n",
       "      <td>4,414</td>\n",
       "      <td>2020</td>\n",
       "    </tr>\n",
       "    <tr>\n",
       "      <th>4</th>\n",
       "      <td>Get Out of Your Mind and Into Your Life: The N...</td>\n",
       "      <td>Steven C. Hayes</td>\n",
       "      <td>4.06</td>\n",
       "      <td>3,056</td>\n",
       "      <td>2005</td>\n",
       "    </tr>\n",
       "  </tbody>\n",
       "</table>\n",
       "</div>"
      ],
      "text/plain": [
       "                                               Title             Author  \\\n",
       "0                                          Self-Help       Lorrie Moore   \n",
       "1  What's Our Problem?: A Self-Help Book for Soci...          Tim Urban   \n",
       "2  Parenting from the Inside Out: How a Deeper Se...   Daniel J. Siegel   \n",
       "3  How to Be Fine: What We Learned from Living by...  Jolenta Greenberg   \n",
       "4  Get Out of Your Mind and Into Your Life: The N...    Steven C. Hayes   \n",
       "\n",
       "  Average Rating Rating Year Published  \n",
       "0           4.14  3,786           1985  \n",
       "1           4.28  3,397           2023  \n",
       "2           4.16  4,799           2003  \n",
       "3           3.54  4,414           2020  \n",
       "4           4.06  3,056           2005  "
      ]
     },
     "execution_count": 36,
     "metadata": {},
     "output_type": "execute_result"
    }
   ],
   "source": [
    "goodreads = pd.DataFrame(data)\n",
    "goodreads.head()"
   ]
  },
  {
   "cell_type": "code",
   "execution_count": 37,
   "id": "eb783175",
   "metadata": {},
   "outputs": [
    {
     "data": {
      "text/plain": [
       "6230"
      ]
     },
     "execution_count": 37,
     "metadata": {},
     "output_type": "execute_result"
    }
   ],
   "source": [
    "len(goodreads)"
   ]
  },
  {
   "cell_type": "code",
   "execution_count": 38,
   "id": "e11df4ff",
   "metadata": {},
   "outputs": [],
   "source": [
    "goodreads.to_csv(\"goodreads_data.csv\", index=False)"
   ]
  },
  {
   "cell_type": "code",
   "execution_count": null,
   "id": "6d8b9dc9",
   "metadata": {},
   "outputs": [],
   "source": []
  }
 ],
 "metadata": {
  "kernelspec": {
   "display_name": "Python 3 (ipykernel)",
   "language": "python",
   "name": "python3"
  },
  "language_info": {
   "codemirror_mode": {
    "name": "ipython",
    "version": 3
   },
   "file_extension": ".py",
   "mimetype": "text/x-python",
   "name": "python",
   "nbconvert_exporter": "python",
   "pygments_lexer": "ipython3",
   "version": "3.9.6"
  }
 },
 "nbformat": 4,
 "nbformat_minor": 5
}
